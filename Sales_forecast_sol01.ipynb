{
  "cells": [
    {
      "cell_type": "code",
      "execution_count": null,
      "id": "removable-headquarters",
      "metadata": {
        "id": "removable-headquarters"
      },
      "outputs": [],
      "source": [
        "import pandas as pd\n",
        "import numpy as np\n",
        "\n",
        "from xgboost import XGBRegressor\n",
        "from sklearn.model_selection import train_test_split\n",
        "from sklearn.metrics import mean_absolute_error\n",
        "\n",
        "import eli5"
      ]
    },
    {
      "cell_type": "code",
      "execution_count": null,
      "id": "romance-laugh",
      "metadata": {
        "id": "romance-laugh"
      },
      "outputs": [],
      "source": [
        "df_train = pd.read_hdf(\"../input/sales_train.h5\")\n",
        "df_test = pd.read_hdf(\"../input/sales_test.h5\")\n",
        "\n",
        "stores = pd.read_csv(\"../input/stores_data.csv\")"
      ]
    },
    {
      "cell_type": "code",
      "execution_count": null,
      "id": "republican-workstation",
      "metadata": {
        "id": "republican-workstation"
      },
      "outputs": [],
      "source": [
        "df_train = pd.merge(df_train, stores, how='left', left_on='store', right_on='Store').drop('Store', axis=1)\n",
        "df_test = pd.merge(df_test, stores, how='left', left_on='store', right_on='Store').drop('Store', axis=1)"
      ]
    },
    {
      "cell_type": "code",
      "execution_count": null,
      "id": "weird-relief",
      "metadata": {
        "id": "weird-relief",
        "outputId": "588d4726-f336-4250-cbae-704832d2a7cb"
      },
      "outputs": [
        {
          "name": "stdout",
          "output_type": "stream",
          "text": [
            "<class 'pandas.core.frame.DataFrame'>\n",
            "Int64Index: 285089 entries, 0 to 285088\n",
            "Data columns (total 8 columns):\n",
            " #   Column        Non-Null Count   Dtype  \n",
            "---  ------        --------------   -----  \n",
            " 0   id            285089 non-null  int32  \n",
            " 1   weekly_sales  285089 non-null  float32\n",
            " 2   store         285089 non-null  int8   \n",
            " 3   dept          285089 non-null  int8   \n",
            " 4   date          285089 non-null  object \n",
            " 5   is_holiday    285089 non-null  bool   \n",
            " 6   Type          285089 non-null  object \n",
            " 7   Size          285089 non-null  int64  \n",
            "dtypes: bool(1), float32(1), int32(1), int64(1), int8(2), object(2)\n",
            "memory usage: 11.7+ MB\n"
          ]
        }
      ],
      "source": [
        "df_train.info()"
      ]
    },
    {
      "cell_type": "code",
      "execution_count": null,
      "id": "vanilla-russell",
      "metadata": {
        "id": "vanilla-russell",
        "outputId": "eee24f06-0f10-473f-afd6-4a811694098a"
      },
      "outputs": [
        {
          "data": {
            "text/html": [
              "<div>\n",
              "<style scoped>\n",
              "    .dataframe tbody tr th:only-of-type {\n",
              "        vertical-align: middle;\n",
              "    }\n",
              "\n",
              "    .dataframe tbody tr th {\n",
              "        vertical-align: top;\n",
              "    }\n",
              "\n",
              "    .dataframe thead th {\n",
              "        text-align: right;\n",
              "    }\n",
              "</style>\n",
              "<table border=\"1\" class=\"dataframe\">\n",
              "  <thead>\n",
              "    <tr style=\"text-align: right;\">\n",
              "      <th></th>\n",
              "      <th>id</th>\n",
              "      <th>weekly_sales</th>\n",
              "      <th>store</th>\n",
              "      <th>dept</th>\n",
              "      <th>date</th>\n",
              "      <th>is_holiday</th>\n",
              "      <th>Type</th>\n",
              "      <th>Size</th>\n",
              "    </tr>\n",
              "  </thead>\n",
              "  <tbody>\n",
              "    <tr>\n",
              "      <th>113852</th>\n",
              "      <td>168756</td>\n",
              "      <td>9933.690430</td>\n",
              "      <td>5</td>\n",
              "      <td>10</td>\n",
              "      <td>28/10/2011</td>\n",
              "      <td>False</td>\n",
              "      <td>B</td>\n",
              "      <td>34875</td>\n",
              "    </tr>\n",
              "    <tr>\n",
              "      <th>252666</th>\n",
              "      <td>373445</td>\n",
              "      <td>7610.620117</td>\n",
              "      <td>25</td>\n",
              "      <td>3</td>\n",
              "      <td>25/06/2010</td>\n",
              "      <td>False</td>\n",
              "      <td>B</td>\n",
              "      <td>128107</td>\n",
              "    </tr>\n",
              "    <tr>\n",
              "      <th>42832</th>\n",
              "      <td>63486</td>\n",
              "      <td>21544.939453</td>\n",
              "      <td>4</td>\n",
              "      <td>80</td>\n",
              "      <td>12/08/2011</td>\n",
              "      <td>False</td>\n",
              "      <td>A</td>\n",
              "      <td>205863</td>\n",
              "    </tr>\n",
              "    <tr>\n",
              "      <th>218244</th>\n",
              "      <td>322798</td>\n",
              "      <td>22.940001</td>\n",
              "      <td>1</td>\n",
              "      <td>45</td>\n",
              "      <td>01/10/2010</td>\n",
              "      <td>False</td>\n",
              "      <td>A</td>\n",
              "      <td>151315</td>\n",
              "    </tr>\n",
              "    <tr>\n",
              "      <th>275517</th>\n",
              "      <td>407309</td>\n",
              "      <td>4862.890137</td>\n",
              "      <td>39</td>\n",
              "      <td>83</td>\n",
              "      <td>03/12/2010</td>\n",
              "      <td>False</td>\n",
              "      <td>A</td>\n",
              "      <td>184109</td>\n",
              "    </tr>\n",
              "  </tbody>\n",
              "</table>\n",
              "</div>"
            ],
            "text/plain": [
              "            id  weekly_sales  store  dept        date  is_holiday Type    Size\n",
              "113852  168756   9933.690430      5    10  28/10/2011       False    B   34875\n",
              "252666  373445   7610.620117     25     3  25/06/2010       False    B  128107\n",
              "42832    63486  21544.939453      4    80  12/08/2011       False    A  205863\n",
              "218244  322798     22.940001      1    45  01/10/2010       False    A  151315\n",
              "275517  407309   4862.890137     39    83  03/12/2010       False    A  184109"
            ]
          },
          "execution_count": 8,
          "metadata": {},
          "output_type": "execute_result"
        }
      ],
      "source": [
        "df_train.sample(5)"
      ]
    },
    {
      "cell_type": "code",
      "execution_count": null,
      "id": "accredited-detection",
      "metadata": {
        "id": "accredited-detection"
      },
      "outputs": [],
      "source": [
        "def type_cat(x):\n",
        "    if x == \"A\":\n",
        "        return 1\n",
        "    elif x == \"B\":\n",
        "        return 2\n",
        "    else:\n",
        "        return 3\n",
        "    "
      ]
    },
    {
      "cell_type": "code",
      "execution_count": null,
      "id": "biblical-alberta",
      "metadata": {
        "id": "biblical-alberta"
      },
      "outputs": [],
      "source": [
        "df_train['type_cat'] = df_train['Type'].map(type_cat)"
      ]
    },
    {
      "cell_type": "code",
      "execution_count": null,
      "id": "clean-study",
      "metadata": {
        "id": "clean-study"
      },
      "outputs": [],
      "source": [
        "def feature_engineering(df):\n",
        "    df['type_cat'] = df['Type'].map(type_cat)\n",
        "    df['date_date'] = pd.to_datetime(df['date'], format='%d/%m/%Y')\n",
        "    df[\"month\"] = df[\"date_date\"].dt.month\n",
        "    df[\"week\"] = df[\"date_date\"].dt.week\n",
        "    df[\"year\"] = df[\"date_date\"].dt.year\n",
        "    df[\"dayofweek\"] = df[\"date_date\"].dt.dayofweek\n",
        "    df[\"dayofyear\"] = df[\"date_date\"].dt.dayofyear\n",
        "    df['holidays'] = df['week'].isin(['47', '50', '51']).astype('int')\n",
        "    \n",
        "       \n",
        "    return df\n",
        "\n",
        "df_train = feature_engineering(df_train)\n",
        "df_test = feature_engineering(df_test)"
      ]
    },
    {
      "cell_type": "code",
      "execution_count": null,
      "id": "appropriate-girlfriend",
      "metadata": {
        "id": "appropriate-girlfriend"
      },
      "outputs": [],
      "source": [
        "df_train = df_train.sort_values(by='date_date')"
      ]
    },
    {
      "cell_type": "code",
      "execution_count": null,
      "id": "heard-personality",
      "metadata": {
        "id": "heard-personality"
      },
      "outputs": [],
      "source": [
        "df_stde = df_train.groupby(['store', 'dept']).agg(['mean', 'std', 'median'])['weekly_sales'].reset_index()\n"
      ]
    },
    {
      "cell_type": "code",
      "execution_count": null,
      "id": "excited-currency",
      "metadata": {
        "id": "excited-currency"
      },
      "outputs": [],
      "source": [
        "df_train = pd.merge(df_train, df_stde, on=['store', 'dept'], how='left').fillna(-1)\n",
        "df_test = pd.merge(df_test, df_stde, on=['store', 'dept'], how='left').fillna(-1)"
      ]
    },
    {
      "cell_type": "code",
      "execution_count": null,
      "id": "universal-salvation",
      "metadata": {
        "id": "universal-salvation"
      },
      "outputs": [],
      "source": [
        "feats_num = df_train.select_dtypes(['number', 'boolean']).columns\n",
        "black_list = ['id', 'weekly_sales']\n",
        "\n",
        "def get_feats(feats_num, black_list, feats_add=[]):\n",
        "    feats = [feat for feat in feats_num if feat not in black_list]\n",
        "    return feats + feats_add"
      ]
    },
    {
      "cell_type": "code",
      "execution_count": null,
      "id": "oriental-contractor",
      "metadata": {
        "id": "oriental-contractor"
      },
      "outputs": [],
      "source": [
        "#xgboost parameters\n",
        "params = {'max_depth': 5,\n",
        "            'colsample_bytree': 0.9,\n",
        "            'learning_rate': 0.2,\n",
        "            'subsample': 0.9,\n",
        "            'random_state': 21,\n",
        "            'n_estimators': 100,\n",
        "            }\n",
        "\n",
        "def validate_model(df_train, feats, params, eli=False):\n",
        "    X = df_train[feats].values\n",
        "    y = df_train['weekly_sales'].values\n",
        "    train_size = int(len(X) * 0.7)\n",
        "    X_train, X_test = X[0:train_size], X[train_size:len(X)]\n",
        "    y_train, y_test = y[0:train_size], y[train_size:len(X)] \n",
        "\n",
        "    model = XGBRegressor(**params)\n",
        "    y_train_log = np.log(y_train - (np.min(y_train) -1))\n",
        "    model.fit(X_train, y_train_log)\n",
        "    y_pred_log = model.predict(X_test)\n",
        "    y_pred = np.exp(y_pred_log) + (np.min(y_train) -1)\n",
        "    score = mean_absolute_error(y_test, y_pred)\n",
        "    print('MAE: {}'.format(score))\n",
        "\n",
        "    if eli:\n",
        "        model.fit(X, y)\n",
        "        display(eli5.show_weights(model, feature_names=feats))\n",
        "        \n",
        "def submit(df_train, df_test, feats, params):\n",
        "    \n",
        "    X = df_train[feats].values\n",
        "    y = df_train['weekly_sales'].values\n",
        "    X_test = df_test[feats].values\n",
        "    \n",
        "    model = XGBRegressor(**params)\n",
        "    y_log = np.log(y - (np.min(y) -1))\n",
        "    model.fit(X, y_log)\n",
        "    y_pred_log = model.predict(X_test)\n",
        "    y_pred = np.exp(y_pred_log) + (np.min(y) -1)\n",
        "    \n",
        "    df_test['weekly_sales'] = y_pred\n",
        "    df_test[ ['id', 'weekly_sales'] ].to_csv(\"../output/xgb_sol1.csv\", index=False)\n"
      ]
    },
    {
      "cell_type": "code",
      "execution_count": null,
      "id": "useful-survival",
      "metadata": {
        "id": "useful-survival",
        "outputId": "88ea2a85-fac4-4313-81c9-db864725ca7c"
      },
      "outputs": [
        {
          "name": "stdout",
          "output_type": "stream",
          "text": [
            "MAE: 1554.4569091796875\n"
          ]
        }
      ],
      "source": [
        "params = {'max_depth': 9,\n",
        "            'colsample_bytree': 0.9,\n",
        "            'learning_rate': 0.15,\n",
        "            'subsample': 0.9,\n",
        "            'random_state': 21,\n",
        "            'n_estimators':300,\n",
        "            }\n",
        "feats = get_feats(feats_num, black_list)\n",
        "validate_model(df_train, feats, params)"
      ]
    },
    {
      "cell_type": "code",
      "execution_count": null,
      "id": "eligible-census",
      "metadata": {
        "id": "eligible-census"
      },
      "outputs": [],
      "source": [
        "submit(df_train, df_test, feats, params)"
      ]
    }
  ],
  "metadata": {
    "kernelspec": {
      "display_name": "Python 3",
      "language": "python",
      "name": "python3"
    },
    "language_info": {
      "codemirror_mode": {
        "name": "ipython",
        "version": 3
      },
      "file_extension": ".py",
      "mimetype": "text/x-python",
      "name": "python",
      "nbconvert_exporter": "python",
      "pygments_lexer": "ipython3",
      "version": "3.8.6"
    },
    "colab": {
      "name": "Sales_forecast_sol01.ipynb",
      "provenance": []
    }
  },
  "nbformat": 4,
  "nbformat_minor": 5
}